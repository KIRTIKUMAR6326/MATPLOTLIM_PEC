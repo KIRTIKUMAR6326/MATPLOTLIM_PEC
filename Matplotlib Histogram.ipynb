{
 "cells": [
  {
   "cell_type": "code",
   "execution_count": 1,
   "metadata": {},
   "outputs": [],
   "source": [
    "import matplotlib.pyplot as plt\n",
    "import numpy as np\n",
    "import random"
   ]
  },
  {
   "cell_type": "markdown",
   "metadata": {},
   "source": [
    "# https://indianaiproduction.com/matplotlib-histogram/"
   ]
  },
  {
   "cell_type": "code",
   "execution_count": 2,
   "metadata": {},
   "outputs": [],
   "source": [
    "ml_students_age = np.random.randint(18,45, (100))\n",
    "py_students_age = np.random.randint(15,40, (100))"
   ]
  },
  {
   "cell_type": "code",
   "execution_count": 3,
   "metadata": {},
   "outputs": [
    {
     "name": "stdout",
     "output_type": "stream",
     "text": [
      "[42 25 28 30 30 20 27 25 23 37 25 26 26 21 35 23 18 18 32 44 38 30 37 44\n",
      " 25 27 37 27 44 30 22 21 37 25 42 42 36 32 37 43 27 28 39 33 23 19 36 28\n",
      " 28 18 19 35 21 35 37 39 35 28 32 19 32 21 42 21 35 43 33 43 39 36 29 37\n",
      " 32 19 31 27 34 28 36 18 35 24 37 30 18 40 32 32 26 33 42 22 34 25 44 34\n",
      " 33 36 34 24]\n",
      "[21 25 24 32 16 23 31 15 33 25 25 32 25 17 22 36 37 34 23 23 24 25 21 38\n",
      " 15 22 26 30 18 30 36 29 29 30 16 25 36 30 25 25 18 24 20 30 33 36 38 27\n",
      " 24 22 30 35 27 15 22 35 23 16 38 37 35 21 21 31 36 38 17 36 30 15 22 37\n",
      " 15 30 30 17 15 36 33 28 20 24 30 38 26 24 24 30 30 21 37 20 30 19 26 17\n",
      " 23 15 15 30]\n"
     ]
    }
   ],
   "source": [
    "print(ml_students_age)\n",
    "print(py_students_age)\n"
   ]
  },
  {
   "cell_type": "code",
   "execution_count": null,
   "metadata": {},
   "outputs": [],
   "source": []
  }
 ],
 "metadata": {
  "kernelspec": {
   "display_name": "Python 3",
   "language": "python",
   "name": "python3"
  },
  "language_info": {
   "codemirror_mode": {
    "name": "ipython",
    "version": 3
   },
   "file_extension": ".py",
   "mimetype": "text/x-python",
   "name": "python",
   "nbconvert_exporter": "python",
   "pygments_lexer": "ipython3",
   "version": "3.7.6"
  }
 },
 "nbformat": 4,
 "nbformat_minor": 4
}
